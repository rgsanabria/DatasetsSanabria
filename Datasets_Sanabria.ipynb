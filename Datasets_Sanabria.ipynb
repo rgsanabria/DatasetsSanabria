{
  "nbformat": 4,
  "nbformat_minor": 0,
  "metadata": {
    "colab": {
      "provenance": [],
      "authorship_tag": "ABX9TyOhUuAfhSIPVlA0dtZytBJ4",
      "include_colab_link": true
    },
    "kernelspec": {
      "name": "python3",
      "display_name": "Python 3"
    },
    "language_info": {
      "name": "python"
    }
  },
  "cells": [
    {
      "cell_type": "markdown",
      "metadata": {
        "id": "view-in-github",
        "colab_type": "text"
      },
      "source": [
        "<a href=\"https://colab.research.google.com/github/rgsanabria/DatasetsSanabria/blob/main/Datasets_Sanabria.ipynb\" target=\"_parent\"><img src=\"https://colab.research.google.com/assets/colab-badge.svg\" alt=\"Open In Colab\"/></a>"
      ]
    },
    {
      "cell_type": "markdown",
      "source": [
        "\n"
      ],
      "metadata": {
        "id": "lWpzuvjLND1B"
      }
    },
    {
      "cell_type": "code",
      "source": [],
      "metadata": {
        "id": "dyEdB5MyPPbb"
      },
      "execution_count": null,
      "outputs": []
    },
    {
      "cell_type": "code",
      "execution_count": null,
      "metadata": {
        "id": "M-pj3BBreGub"
      },
      "outputs": [],
      "source": []
    },
    {
      "cell_type": "markdown",
      "source": [
        "ABSTRACT\n",
        "\n",
        "El dataset sobre la elegibilidad de las tarjetas de crédito ofrece una colección de datos que permite a los analistas desarrollar un entendimiento de los factores que influyen en la aprobación de tarjetas de crédito. Este conjunto de datos incluye una amplia gama de atributos demográficos, financieros y de comportamiento de los solicitantes de tarjetas de crédito, proporcionando una base sólida para el análisis y la construcción de modelos predictivos.\n",
        "\n",
        "Entre los atributos demográficos, se encuentran la edad, el género, el estado civil y el número de dependientes del solicitante. Los atributos financieros incluyen el ingreso anual, el saldo actual de la cuenta bancaria, el historial de crédito y las deudas existentes. Los atributos de comportamiento abarcan el historial de pagos, el número de cuentas de crédito abiertas y las consultas recientes de crédito. Este variado conjunto de datos permite un análisis multidimensional de los solicitantes de tarjetas de crédito, facilitando la identificación de patrones y tendencias que pueden influir en la decisión de aprobación.\n",
        "\n",
        "El análisis de este dataset puede ayudar a las instituciones financieras a comprender mejor los perfiles de riesgo de los solicitantes y a mejorar sus modelos de evaluación de crédito. Por ejemplo, se pueden desarrollar modelos de clasificación para predecir la probabilidad de aprobación de una solicitud de tarjeta de crédito en función de los atributos mencionados. Además, se pueden llevar a cabo análisis de correlación para identificar qué factores tienen un mayor impacto en la decisión de aprobación."
      ],
      "metadata": {
        "id": "UG2vnBGJLutt"
      }
    },
    {
      "cell_type": "code",
      "source": [],
      "metadata": {
        "id": "8JR9_SKgL24o"
      },
      "execution_count": null,
      "outputs": []
    },
    {
      "cell_type": "markdown",
      "source": [
        "Preguntas de Investigación\n",
        "¿Cuáles son los principales factores demográficos que influyen en la aprobación de las tarjetas de crédito?\n",
        "¿Cómo afecta el historial de crédito de un solicitante a la probabilidad de aprobación de su tarjeta de crédito?\n",
        "¿Existe una correlación significativa entre el ingreso anual de un solicitante y la aprobación de su tarjeta de crédito?\n",
        "¿Qué impacto tienen las deudas existentes y el saldo de la cuenta bancaria en la decisión de aprobación?"
      ],
      "metadata": {
        "id": "H191Qfn4MGCN"
      }
    },
    {
      "cell_type": "code",
      "source": [],
      "metadata": {
        "id": "G0Q86bJ2Lw_d"
      },
      "execution_count": null,
      "outputs": []
    },
    {
      "cell_type": "markdown",
      "source": [
        "Hipótesis\n",
        "\n",
        "Los solicitantes con un historial de crédito positivo tienen una mayor probabilidad de aprobación de la tarjeta de crédito que aquellos con un historial negativo.\n",
        "Existe una correlación positiva entre el ingreso anual del solicitante y la probabilidad de aprobación de la tarjeta de crédito.\n",
        "Los factores demográficos, como la edad y el estado civil, tienen un impacto significativo en la decisión de aprobación de la tarjeta de crédito.\n",
        "Los solicitantes con deudas existentes elevadas y saldos bajos en sus cuentas bancarias tienen una menor probabilidad de ser aprobados para una tarjeta de crédito.\n"
      ],
      "metadata": {
        "id": "QHa5jStqMO3x"
      }
    },
    {
      "cell_type": "markdown",
      "source": [
        "En conclusión, el análisis de este dataset puede proporcionar valiosas perspectivas sobre los factores que influyen en la elegibilidad de las tarjetas de crédito, lo que puede ayudar a las instituciones financieras a mejorar sus procesos de evaluación de solicitudes y gestión de riesgos."
      ],
      "metadata": {
        "id": "0_MfIejlMSlK"
      }
    },
    {
      "cell_type": "code",
      "source": [
        "import pandas as pd\n"
      ],
      "metadata": {
        "id": "9VhFPMwyIQUw"
      },
      "execution_count": null,
      "outputs": []
    },
    {
      "cell_type": "code",
      "source": [
        "from google.colab import drive\n",
        "import os\n",
        "drive.mount('/content/dataset')"
      ],
      "metadata": {
        "id": "y70y-qFeNjKL",
        "colab": {
          "base_uri": "https://localhost:8080/"
        },
        "outputId": "664743fb-5b13-4185-ecf3-662e3faffd85"
      },
      "execution_count": null,
      "outputs": [
        {
          "output_type": "stream",
          "name": "stdout",
          "text": [
            "Mounted at /content/dataset\n"
          ]
        }
      ]
    },
    {
      "cell_type": "code",
      "source": [
        "df = pd.read_csv ('/content/dataset.csv' ,sep=',')\n",
        "print (df.head(10))"
      ],
      "metadata": {
        "colab": {
          "base_uri": "https://localhost:8080/"
        },
        "id": "YcMhVCVVNWNk",
        "outputId": "eff35f36-51f6-4eb1-ce26-a23472fbe495"
      },
      "execution_count": null,
      "outputs": [
        {
          "output_type": "stream",
          "name": "stdout",
          "text": [
            "        ID  Gender  Own_car  Own_property  Work_phone  Phone  Email  \\\n",
            "0  5008804       1        1             1           1      0      0   \n",
            "1  5008806       1        1             1           0      0      0   \n",
            "2  5008808       0        0             1           0      1      1   \n",
            "3  5008812       0        0             1           0      0      0   \n",
            "4  5008815       1        1             1           1      1      1   \n",
            "5  5008819       1        1             1           0      0      0   \n",
            "6  5008825       0        1             0           0      0      0   \n",
            "7  5008830       0        0             1           0      1      0   \n",
            "8  5008834       0        0             1           0      0      0   \n",
            "9  5008836       1        1             1           0      0      0   \n",
            "\n",
            "   Unemployed  Num_children  Num_family  Account_length  Total_income  \\\n",
            "0           0             0           2              15      427500.0   \n",
            "1           0             0           2              29      112500.0   \n",
            "2           0             0           1               4      270000.0   \n",
            "3           1             0           1              20      283500.0   \n",
            "4           0             0           2               5      270000.0   \n",
            "5           0             0           2              17      135000.0   \n",
            "6           0             0           2              25      130500.0   \n",
            "7           0             0           2              31      157500.0   \n",
            "8           0             1           2              44      112500.0   \n",
            "9           0             3           5              24      270000.0   \n",
            "\n",
            "         Age  Years_employed           Income_type  \\\n",
            "0  32.868574       12.435574               Working   \n",
            "1  58.793815        3.104787               Working   \n",
            "2  52.321403        8.353354  Commercial associate   \n",
            "3  61.504343        0.000000             Pensioner   \n",
            "4  46.193967        2.105450               Working   \n",
            "5  48.674511        3.269061  Commercial associate   \n",
            "6  29.210730        3.019911               Working   \n",
            "7  27.463945        4.021985               Working   \n",
            "8  30.029364        4.435409               Working   \n",
            "9  34.741302        3.184186               Working   \n",
            "\n",
            "                  Education_type         Family_status       Housing_type  \\\n",
            "0               Higher education        Civil marriage   Rented apartment   \n",
            "1  Secondary / secondary special               Married  House / apartment   \n",
            "2  Secondary / secondary special  Single / not married  House / apartment   \n",
            "3               Higher education             Separated  House / apartment   \n",
            "4               Higher education               Married  House / apartment   \n",
            "5  Secondary / secondary special               Married  House / apartment   \n",
            "6              Incomplete higher               Married  House / apartment   \n",
            "7  Secondary / secondary special               Married  House / apartment   \n",
            "8  Secondary / secondary special  Single / not married  House / apartment   \n",
            "9  Secondary / secondary special               Married  House / apartment   \n",
            "\n",
            "  Occupation_type  Target  \n",
            "0           Other       1  \n",
            "1  Security staff       0  \n",
            "2     Sales staff       0  \n",
            "3           Other       0  \n",
            "4     Accountants       0  \n",
            "5        Laborers       0  \n",
            "6     Accountants       1  \n",
            "7        Laborers       1  \n",
            "8           Other       0  \n",
            "9        Laborers       0  \n"
          ]
        }
      ]
    },
    {
      "cell_type": "code",
      "source": [
        "df.shape"
      ],
      "metadata": {
        "colab": {
          "base_uri": "https://localhost:8080/"
        },
        "id": "7IVp8IkaMlPz",
        "outputId": "a351ae17-5978-4ba7-f720-f3f7b8d053d4"
      },
      "execution_count": null,
      "outputs": [
        {
          "output_type": "execute_result",
          "data": {
            "text/plain": [
              "(9709, 20)"
            ]
          },
          "metadata": {},
          "execution_count": 6
        }
      ]
    },
    {
      "cell_type": "code",
      "source": [],
      "metadata": {
        "id": "c7GXaPwZNmIz"
      },
      "execution_count": null,
      "outputs": []
    }
  ]
}